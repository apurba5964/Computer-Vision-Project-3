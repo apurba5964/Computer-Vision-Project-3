{
 "cells": [
  {
   "cell_type": "code",
   "execution_count": 54,
   "metadata": {},
   "outputs": [],
   "source": [
    "import cv2 as cv\n",
    "import numpy as np\n"
   ]
  },
  {
   "cell_type": "code",
   "execution_count": 55,
   "metadata": {},
   "outputs": [],
   "source": [
    "hough_image = cv.imread('original_imgs/hough.jpg',0)\n",
    "v_org_image = cv.imread('original_imgs/hough.jpg')\n",
    "d_org_image = cv.imread('original_imgs/hough.jpg')\n",
    "\n",
    "sobel_x = [[-1, 0, 1], [-2,0,2], [-1,0,1]]\n",
    "sobel_y = [[-1, -2, -1], [0,0,0], [1,2,1]]\n"
   ]
  },
  {
   "cell_type": "code",
   "execution_count": 56,
   "metadata": {},
   "outputs": [],
   "source": [
    "def getSobelImage(img,sobel):\n",
    "    height, width= img.shape\n",
    "    sobelImage=[[0 for col in range(width)] for row in range(height)]\n",
    "    for x in range(1,height-1):\n",
    "        for y in range(1,width-1):\n",
    "            pixel_x =           (sobel[0][0] * img[x-1][y-1]) + \\\n",
    "                            (sobel[0][1] * img[x-1][y]) + \\\n",
    "                            (sobel[0][2] * img[x-1][y+1]) + \\\n",
    "                            (sobel[1][0] * img[x][y-1])   +\\\n",
    "                             (sobel[1][1] * img[x][y])   + \\\n",
    "                             (sobel[1][2] * img[x][y+1]) + \\\n",
    "                             (sobel[2][0] * img[x+1][y-1]) + \\\n",
    "                             (sobel[2][1] * img[x+1][y]) + \\\n",
    "                             (sobel[2][2] * img[x+1][y+1])\n",
    "            sobelImage[x][y]=pixel_x\n",
    "    return np.asarray(sobelImage)        \n",
    "      \n",
    "def normalizeMatrix(img):\n",
    "    h,w=img.shape\n",
    "    currMax=0\n",
    "    for x in range(0,h):\n",
    "        for y in range(0,w):\n",
    "            if (img[x][y]<0):\n",
    "                img[x][y]= 0-img[x][y]\n",
    "            if (currMax<img[x][y]):\n",
    "                currMax=img[x][y]\n",
    "\n",
    "    for i in range(0,h):\n",
    "        for j in range(0,w):\n",
    "            img[i][j]=(img[i][j]/currMax)*255\n",
    "\n",
    "    return img\n"
   ]
  },
  {
   "cell_type": "code",
   "execution_count": 57,
   "metadata": {},
   "outputs": [],
   "source": [
    "def generateHoughLines(image):\n",
    "    theta = np.deg2rad(np.arange(-90.0, 90.0))\n",
    "    #theta = np.deg2rad([-90,-60,-45,-30,-15,0,15,30,45,60,90])\n",
    "    print(image.shape)\n",
    "    width,height = image.shape\n",
    "    len_diagonal = int(np.ceil(np.sqrt(width * width + height * height)))\n",
    "    rhos = np.linspace(-len_diagonal, len_diagonal, len_diagonal * 2.0)\n",
    "\n",
    "    cos_theta = np.cos(theta)\n",
    "    sin_theta = np.sin(theta)\n",
    "    len_thetas = len(theta)\n",
    "\n",
    "    print(len_diagonal)\n",
    "    accumulator = np.zeros((2 * len_diagonal, len_thetas), dtype=np.uint64)\n",
    "    y_idx, x_idx = np.nonzero(image)\n",
    "    print(len_thetas)\n",
    "\n",
    "    for i in range(len(x_idx)):\n",
    "        x = x_idx[i]\n",
    "        y = y_idx[i]\n",
    "\n",
    "        for t_idx in range(len_thetas):\n",
    "            rho = int(round(x * cos_theta[t_idx] + y * sin_theta[t_idx]) + len_diagonal)\n",
    "            #print(rho)\n",
    "            accumulator[rho, t_idx] += 1\n",
    "\n",
    "    return accumulator, theta, rhos"
   ]
  },
  {
   "cell_type": "code",
   "execution_count": 58,
   "metadata": {},
   "outputs": [],
   "source": [
    "def thresholdSobel(Image):\n",
    "    img = np.zeros(Image.shape)\n",
    "    h1,w1 = Image.shape\n",
    "    for i in range(0,h1):\n",
    "        for j in range(0,w1):\n",
    "            if(Image[i][j]>40):\n",
    "                img[i][j]=255\n",
    "    return img            "
   ]
  },
  {
   "cell_type": "code",
   "execution_count": 59,
   "metadata": {},
   "outputs": [],
   "source": [
    "\n",
    "sobelHoughX=getSobelImage(hough_image,sobel_x)\n",
    "sobelHoughY=getSobelImage(hough_image,sobel_y)\n",
    "hough_edge_x=normalizeMatrix(sobelHoughX)\n",
    "hough_edge_y=normalizeMatrix(sobelHoughY)\n",
    "\n",
    "threshold_sobel_x = thresholdSobel(hough_edge_x)\n"
   ]
  },
  {
   "cell_type": "code",
   "execution_count": null,
   "metadata": {},
   "outputs": [],
   "source": []
  },
  {
   "cell_type": "code",
   "execution_count": null,
   "metadata": {},
   "outputs": [],
   "source": []
  },
  {
   "cell_type": "code",
   "execution_count": null,
   "metadata": {},
   "outputs": [],
   "source": []
  },
  {
   "cell_type": "code",
   "execution_count": 60,
   "metadata": {},
   "outputs": [
    {
     "name": "stdout",
     "output_type": "stream",
     "text": [
      "(477, 666)\n",
      "820\n",
      "180\n"
     ]
    },
    {
     "name": "stderr",
     "output_type": "stream",
     "text": [
      "/anaconda3/envs/ML_Tensor_Keras/lib/python3.6/site-packages/ipykernel_launcher.py:7: DeprecationWarning: object of type <class 'float'> cannot be safely interpreted as an integer.\n",
      "  import sys\n"
     ]
    }
   ],
   "source": [
    "accumulator, thetas, rhos = generateHoughLines(threshold_sobel_x)"
   ]
  },
  {
   "cell_type": "code",
   "execution_count": 61,
   "metadata": {},
   "outputs": [
    {
     "name": "stdout",
     "output_type": "stream",
     "text": [
      "(1640, 180)\n",
      "147870\n",
      "[-820.         -818.99938987 -817.99877974 ...  817.99877974  818.99938987\n",
      "  820.        ]\n",
      "0.0\n",
      "2.501525320317228 0.0\n",
      "(821, 90)\n"
     ]
    }
   ],
   "source": [
    "print(accumulator.shape)\n",
    "#print(accumulator[860,179])\n",
    "\n",
    "print(np.argmax(accumulator))\n",
    "idx = np.argmax(accumulator)\n",
    "r = int(round(idx / accumulator.shape[1]))\n",
    "rho = rhos[r]\n",
    "print(rhos)\n",
    "\n",
    "theta = thetas[idx % accumulator.shape[1]]\n",
    "print(theta)\n",
    "print(rho, np.rad2deg(theta))\n",
    "a=accumulator\n",
    "nd = np.unravel_index(np.argmax(a, axis=None), a.shape)\n",
    "print(nd)\n",
    "\n",
    "#print(accumulator[1244][135])\n",
    "\n"
   ]
  },
  {
   "cell_type": "code",
   "execution_count": 62,
   "metadata": {},
   "outputs": [],
   "source": [
    "def hough_peaks1(H, num_peaks):\n",
    "    indices =  np.argpartition(H.flatten(), -2)[-num_peaks:]\n",
    "    return np.vstack(np.unravel_index(indices, H.shape)).T"
   ]
  },
  {
   "cell_type": "code",
   "execution_count": null,
   "metadata": {},
   "outputs": [],
   "source": []
  },
  {
   "cell_type": "code",
   "execution_count": 63,
   "metadata": {},
   "outputs": [
    {
     "name": "stdout",
     "output_type": "stream",
     "text": [
      "[[ 925   53]\n",
      " [1146   53]\n",
      " [ 856   53]\n",
      " [ 860   54]\n",
      " [ 855   53]\n",
      " [ 933   54]\n",
      " [ 785   54]\n",
      " [1005   54]\n",
      " [ 931   54]\n",
      " [ 934   54]\n",
      " [1075   54]\n",
      " [1078   54]\n",
      " [1006   54]\n",
      " [ 859   54]\n",
      " [ 862   54]\n",
      " [1003   54]]\n",
      "[[1107   89]\n",
      " [1007   89]\n",
      " [ 908   88]\n",
      " [1385   89]\n",
      " [1005   88]\n",
      " [ 909   88]\n",
      " [1196   88]\n",
      " [ 907   88]\n",
      " [1004   88]\n",
      " [1286   88]]\n"
     ]
    }
   ],
   "source": [
    "peaks = hough_peaks1(accumulator,60)\n",
    "v_peaks = peaks[peaks[:,1]>87]\n",
    "v_peaks = v_peaks[:10,:]\n",
    "d_peaks = peaks[peaks[:,1]<70]\n",
    "print(d_peaks)\n",
    "\n",
    "print(v_peaks)\n",
    "#theta = thetas[peaks[2][1]]\n",
    "#theta\n",
    "\n",
    "hough_lines_draw(v_org_image, v_peaks,rhos, thetas)\n",
    "hough_lines_draw(d_org_image, d_peaks,rhos, thetas)"
   ]
  },
  {
   "cell_type": "code",
   "execution_count": null,
   "metadata": {},
   "outputs": [],
   "source": [
    "\n",
    "\n",
    "\n",
    "\n",
    "\n"
   ]
  },
  {
   "cell_type": "code",
   "execution_count": 64,
   "metadata": {},
   "outputs": [],
   "source": [
    "def hough_lines_draw(img, indicies, rhos, thetas):\n",
    "    for i in range(len(indicies)):\n",
    "        \n",
    "        rho = rhos[indicies[i][0]]\n",
    "        theta = thetas[indicies[i][1]]\n",
    "        a = np.cos(theta)\n",
    "        b = np.sin(theta)\n",
    "        x0 = a*rho\n",
    "        y0 = b*rho\n",
    "        \n",
    "        x1 = int(x0 + 1000*(-b))\n",
    "        y1 = int(y0 + 1000*(a))\n",
    "        x2 = int(x0 - 1000*(-b))\n",
    "        y2 = int(y0 - 1000*(a))\n",
    "\n",
    "        cv.line(img, (x1, y1), (x2, y2), (0, 255, 0), 2)"
   ]
  },
  {
   "cell_type": "code",
   "execution_count": 66,
   "metadata": {},
   "outputs": [
    {
     "data": {
      "text/plain": [
       "True"
      ]
     },
     "execution_count": 66,
     "metadata": {},
     "output_type": "execute_result"
    }
   ],
   "source": [
    "cv.imwrite(\"red_line\"+'.jpg',v_org_image)\n",
    "cv.imwrite(\"blue_lines\"+'.jpg',d_org_image)"
   ]
  }
 ],
 "metadata": {
  "kernelspec": {
   "display_name": "Python 3",
   "language": "python",
   "name": "python3"
  },
  "language_info": {
   "codemirror_mode": {
    "name": "ipython",
    "version": 3
   },
   "file_extension": ".py",
   "mimetype": "text/x-python",
   "name": "python",
   "nbconvert_exporter": "python",
   "pygments_lexer": "ipython3",
   "version": "3.6.6"
  }
 },
 "nbformat": 4,
 "nbformat_minor": 2
}
