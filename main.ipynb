{
 "cells": [
  {
   "cell_type": "code",
   "execution_count": 2,
   "metadata": {},
   "outputs": [],
   "source": [
    "import cv2 as cv\n",
    "import numpy as np\n"
   ]
  },
  {
   "cell_type": "code",
   "execution_count": 13,
   "metadata": {},
   "outputs": [],
   "source": [
    "hough_image = cv.imread('original_imgs/hough.jpg',0)\n",
    "org_image = cv.imread('original_imgs/hough.jpg')\n",
    "\n",
    "sobel_x = [[-1, 0, 1], [-2,0,2], [-1,0,1]]\n",
    "sobel_y = [[-1, -2, -1], [0,0,0], [1,2,1]]\n"
   ]
  },
  {
   "cell_type": "code",
   "execution_count": 4,
   "metadata": {},
   "outputs": [],
   "source": [
    "def getSobelImage(img,sobel):\n",
    "    height, width= img.shape\n",
    "    sobelImage=[[0 for col in range(width)] for row in range(height)]\n",
    "    for x in range(1,height-1):\n",
    "        for y in range(1,width-1):\n",
    "            pixel_x =           (sobel[0][0] * img[x-1][y-1]) + \\\n",
    "                            (sobel[0][1] * img[x-1][y]) + \\\n",
    "                            (sobel[0][2] * img[x-1][y+1]) + \\\n",
    "                            (sobel[1][0] * img[x][y-1])   +\\\n",
    "                             (sobel[1][1] * img[x][y])   + \\\n",
    "                             (sobel[1][2] * img[x][y+1]) + \\\n",
    "                             (sobel[2][0] * img[x+1][y-1]) + \\\n",
    "                             (sobel[2][1] * img[x+1][y]) + \\\n",
    "                             (sobel[2][2] * img[x+1][y+1])\n",
    "            sobelImage[x][y]=pixel_x\n",
    "    return np.asarray(sobelImage)        \n",
    "      \n",
    "def normalizeMatrix(img):\n",
    "    h,w=img.shape\n",
    "    currMax=0\n",
    "    for x in range(0,h):\n",
    "        for y in range(0,w):\n",
    "            if (img[x][y]<0):\n",
    "                img[x][y]= 0-img[x][y]\n",
    "            if (currMax<img[x][y]):\n",
    "                currMax=img[x][y]\n",
    "\n",
    "    for i in range(0,h):\n",
    "        for j in range(0,w):\n",
    "            img[i][j]=(img[i][j]/currMax)*255\n",
    "\n",
    "    return img\n"
   ]
  },
  {
   "cell_type": "code",
   "execution_count": 5,
   "metadata": {},
   "outputs": [],
   "source": [
    "def generateHoughLines(image):\n",
    "\ttheta = np.deg2rad(np.arange(-90.0, 90.0))\n",
    "\tprint(image.shape)\n",
    "\twidth,height = image.shape\n",
    "\tlen_diagonal = int(np.ceil(np.sqrt(width * width + height * height)))\n",
    "\trhos = np.linspace(-len_diagonal, len_diagonal, len_diagonal * 2.0)\n",
    "\n",
    "\tcos_theta = np.cos(theta)\n",
    "\tsin_theta = np.sin(theta)\n",
    "\tlen_thetas = len(theta)\n",
    "\n",
    "\tprint(len_diagonal)\n",
    "\taccumulator = np.zeros((2 * len_diagonal, len_thetas), dtype=np.uint64)\n",
    "\ty_idx, x_idx = np.nonzero(image)\n",
    "\tprint(len_thetas)\n",
    "\n",
    "\tfor i in range(len(x_idx)):\n",
    "\t\tx = x_idx[i]\n",
    "\t\ty = y_idx[i]\n",
    "\n",
    "\t\tfor t_idx in range(len_thetas):\n",
    "\t\t\trho = int(round(x * cos_theta[t_idx] + y * sin_theta[t_idx]) + len_diagonal)\n",
    "\t\t\t#print(rho)\n",
    "\t\t\taccumulator[rho, t_idx] += 1\n",
    "\n",
    "\treturn accumulator, theta, rhos\t\t"
   ]
  },
  {
   "cell_type": "code",
   "execution_count": null,
   "metadata": {},
   "outputs": [
    {
     "name": "stdout",
     "output_type": "stream",
     "text": [
      "(477, 666)\n",
      "820\n",
      "180\n"
     ]
    },
    {
     "name": "stderr",
     "output_type": "stream",
     "text": [
      "/anaconda3/envs/ML_Tensor_Keras/lib/python3.6/site-packages/ipykernel_launcher.py:6: DeprecationWarning: object of type <class 'float'> cannot be safely interpreted as an integer.\n",
      "  \n"
     ]
    }
   ],
   "source": [
    "sobelHoughX=getSobelImage(hough_image,sobel_x)\n",
    "sobelHoughY=getSobelImage(hough_image,sobel_y)\n",
    "hough_edge_x=normalizeMatrix(sobelHoughX)\n",
    "hough_edge_y=normalizeMatrix(sobelHoughY)\n",
    "accumulator, thetas, rhos = generateHoughLines(hough_edge_y)"
   ]
  },
  {
   "cell_type": "code",
   "execution_count": null,
   "metadata": {},
   "outputs": [],
   "source": [
    "print(accumulator.shape)\n",
    "print(accumulator[860,179])\n",
    "\n",
    "print(np.argmax(accumulator))\n",
    "idx = np.argmax(accumulator)\n",
    "r = int(round(idx / accumulator.shape[1]))\n",
    "rho = rhos[r]\n",
    "print(rhos)\n",
    "\n",
    "theta = thetas[idx % accumulator.shape[1]]\n",
    "print(theta)\n",
    "print(rho, np.rad2deg(theta))\n",
    "a=accumulator\n",
    "nd = np.unravel_index(np.argmax(a, axis=None), a.shape)\n",
    "print(nd)\n",
    "\n",
    "print(accumulator[1244][135])\n",
    "\n"
   ]
  },
  {
   "cell_type": "code",
   "execution_count": null,
   "metadata": {},
   "outputs": [],
   "source": [
    "def hough_simple_peaks(H, num_peaks):\n",
    "    indices =  np.argpartition(H.flatten(), -2)[-num_peaks:]\n",
    "    return np.vstack(np.unravel_index(indices, H.shape)).T"
   ]
  },
  {
   "cell_type": "code",
   "execution_count": null,
   "metadata": {},
   "outputs": [],
   "source": [
    "peaks = hough_simple_peaks(accumulator,10)\n",
    "print(peaks[[2][0]])\n",
    "#theta = thetas[peaks[2][1]]\n",
    "#theta\n",
    "\n",
    "hough_lines_draw(org_image, peaks,rhos, thetas)"
   ]
  },
  {
   "cell_type": "code",
   "execution_count": null,
   "metadata": {},
   "outputs": [],
   "source": [
    "def hough_lines_draw(img, indicies, rhos, thetas):\n",
    "    for i in range(len(indicies)):\n",
    "        # reverse engineer lines from rhos and thetas\n",
    "        rho = rhos[indicies[i][0]]\n",
    "        theta = thetas[indicies[i][1]]\n",
    "        a = np.cos(theta)\n",
    "        b = np.sin(theta)\n",
    "        x0 = a*rho\n",
    "        y0 = b*rho\n",
    "        # these are then scaled so that the lines go off the edges of the image\n",
    "        x1 = int(x0 + 1000*(-b))\n",
    "        y1 = int(y0 + 1000*(a))\n",
    "        x2 = int(x0 - 1000*(-b))\n",
    "        y2 = int(y0 - 1000*(a))\n",
    "\n",
    "        cv.line(img, (x1, y1), (x2, y2), (0, 255, 0), 2)"
   ]
  },
  {
   "cell_type": "code",
   "execution_count": null,
   "metadata": {},
   "outputs": [],
   "source": [
    "cv.imwrite(\"testHough_y\"+'.jpg',org_image)"
   ]
  }
 ],
 "metadata": {
  "kernelspec": {
   "display_name": "Python 3",
   "language": "python",
   "name": "python3"
  },
  "language_info": {
   "codemirror_mode": {
    "name": "ipython",
    "version": 3
   },
   "file_extension": ".py",
   "mimetype": "text/x-python",
   "name": "python",
   "nbconvert_exporter": "python",
   "pygments_lexer": "ipython3",
   "version": "3.6.6"
  }
 },
 "nbformat": 4,
 "nbformat_minor": 2
}
