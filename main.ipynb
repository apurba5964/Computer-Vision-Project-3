{
 "cells": [
  {
   "cell_type": "code",
   "execution_count": 501,
   "metadata": {},
   "outputs": [],
   "source": [
    "import cv2 as cv\n",
    "import numpy as np\n",
    "from math import exp"
   ]
  },
  {
   "cell_type": "code",
   "execution_count": 535,
   "metadata": {},
   "outputs": [],
   "source": [
    "hough_image = cv.imread('original_imgs/hough.jpg',0)\n",
    "v_org_image = cv.imread('original_imgs/hough.jpg')\n",
    "d_org_image = cv.imread('original_imgs/hough.jpg')\n",
    "circle_org_image = cv.imread('original_imgs/hough.jpg')\n",
    "\n",
    "sobel_x = [[-1, 0, 1], [-2,0,2], [-1,0,1]]\n",
    "sobel_y = [[-1, -2, -1], [0,0,0], [1,2,1]]\n"
   ]
  },
  {
   "cell_type": "code",
   "execution_count": 503,
   "metadata": {},
   "outputs": [],
   "source": [
    "def gaussian(x, mu, sigma):\n",
    "  return exp( -(((x-mu)/(sigma))**2)/2.0 )\n",
    "\n",
    "def createKernel(sigma):\n",
    "    \n",
    "    \n",
    "  #kernel_height, kernel_width = 7, 7\n",
    "    kernel_radius = 3 # for an 7x7 filter\n",
    "  \n",
    "\n",
    "  # compute the actual kernel elements\n",
    "    hkernel = [gaussian(x, kernel_radius, sigma) for x in range(2*kernel_radius+1)]\n",
    "    vkernel = [x for x in hkernel]\n",
    "    kernel2d = [[xh*xv for xh in hkernel] for xv in vkernel]\n",
    "\n",
    "  # normalize the kernel elements\n",
    "    kernelsum = sum([sum(row) for row in kernel2d])\n",
    "    kernel2d = [[x/kernelsum for x in row] for row in kernel2d]\n",
    "    return kernel2d\n",
    "\n",
    "\n",
    "def createImage(img):\n",
    "    kernel2d = np.array([[1/16.,1/8.,1/16.],[1/8.,1/4.,1/8.],[1/16.,1/8.,1/16.]])\n",
    "    height,width=img.shape\n",
    "    img2dhororg=np.zeros(img.shape)\n",
    "    pixel_x=0\n",
    "    for x in range(3,height-3):\n",
    "        for y in range(3,width-3):\n",
    "            for i in range(0,3):\n",
    "                for j in range(0,3):\n",
    "                    pixel_x=pixel_x+kernel2d[i][j]*img[x-3+i][y-3+j]\n",
    "                                    \n",
    "        \n",
    "            img2dhororg[x][y]=pixel_x\n",
    "            pixel_x=0\n",
    "    return img2dhororg"
   ]
  },
  {
   "cell_type": "code",
   "execution_count": 504,
   "metadata": {},
   "outputs": [],
   "source": [
    "def getSobelImage(img,sobel):\n",
    "    height, width= img.shape\n",
    "    sobelImage=[[0 for col in range(width)] for row in range(height)]\n",
    "    for x in range(1,height-1):\n",
    "        for y in range(1,width-1):\n",
    "            pixel_x =           (sobel[0][0] * img[x-1][y-1]) + \\\n",
    "                            (sobel[0][1] * img[x-1][y]) + \\\n",
    "                            (sobel[0][2] * img[x-1][y+1]) + \\\n",
    "                            (sobel[1][0] * img[x][y-1])   +\\\n",
    "                             (sobel[1][1] * img[x][y])   + \\\n",
    "                             (sobel[1][2] * img[x][y+1]) + \\\n",
    "                             (sobel[2][0] * img[x+1][y-1]) + \\\n",
    "                             (sobel[2][1] * img[x+1][y]) + \\\n",
    "                             (sobel[2][2] * img[x+1][y+1])\n",
    "            sobelImage[x][y]=pixel_x\n",
    "    return np.asarray(sobelImage)        \n",
    "      \n",
    "def normalizeMatrix(img):\n",
    "    h,w=img.shape\n",
    "    currMax=0\n",
    "    for x in range(0,h):\n",
    "        for y in range(0,w):\n",
    "            if (img[x][y]<0):\n",
    "                img[x][y]= 0-img[x][y]\n",
    "            if (currMax<img[x][y]):\n",
    "                currMax=img[x][y]\n",
    "\n",
    "    for i in range(0,h):\n",
    "        for j in range(0,w):\n",
    "            img[i][j]=(img[i][j]/currMax)*255\n",
    "\n",
    "    return img\n"
   ]
  },
  {
   "cell_type": "code",
   "execution_count": 505,
   "metadata": {},
   "outputs": [],
   "source": [
    "def generateHoughLines(image):\n",
    "    theta = np.deg2rad(np.arange(-90.0, 90.0))\n",
    "    #theta = np.deg2rad([-90,-60,-45,-30,-15,0,15,30,45,60,90])\n",
    "    print(image.shape)\n",
    "    width,height = image.shape\n",
    "    len_diagonal = int(np.ceil(np.sqrt(width * width + height * height)))\n",
    "    rhos = np.linspace(-len_diagonal, len_diagonal, len_diagonal * 2.0)\n",
    "\n",
    "    cos_theta = np.cos(theta)\n",
    "    sin_theta = np.sin(theta)\n",
    "    len_thetas = len(theta)\n",
    "\n",
    "    print(len_diagonal)\n",
    "    accumulator = np.zeros((2 * len_diagonal, len_thetas), dtype=np.uint64)\n",
    "    y_idx, x_idx = np.nonzero(image)\n",
    "    print(len_thetas)\n",
    "\n",
    "    for i in range(len(x_idx)):\n",
    "        x = x_idx[i]\n",
    "        y = y_idx[i]\n",
    "\n",
    "        for t_idx in range(len_thetas):\n",
    "            rho = int(round(x * cos_theta[t_idx] + y * sin_theta[t_idx]) + len_diagonal)\n",
    "            #print(rho)\n",
    "            accumulator[rho, t_idx] += 1\n",
    "\n",
    "    return accumulator, theta, rhos"
   ]
  },
  {
   "cell_type": "code",
   "execution_count": 506,
   "metadata": {},
   "outputs": [],
   "source": [
    "def thresholdSobel(Image):\n",
    "    img = np.zeros(Image.shape)\n",
    "    h1,w1 = Image.shape\n",
    "    for i in range(0,h1):\n",
    "        for j in range(0,w1):\n",
    "            if(Image[i][j]>40):\n",
    "                img[i][j]=255\n",
    "    return img            "
   ]
  },
  {
   "cell_type": "code",
   "execution_count": 507,
   "metadata": {},
   "outputs": [],
   "source": [
    "#kernel = createKernel(1/1.414)\n",
    "hough_gaussian = createImage(hough_image)"
   ]
  },
  {
   "cell_type": "code",
   "execution_count": 508,
   "metadata": {},
   "outputs": [],
   "source": [
    "\n",
    "sobelHoughX=getSobelImage(hough_image,sobel_x)\n",
    "sobelHoughY=getSobelImage(hough_image,sobel_y)\n",
    "hough_edge_x=normalizeMatrix(sobelHoughX)\n",
    "hough_edge_y=normalizeMatrix(sobelHoughY)\n",
    "\n",
    "threshold_sobel_x = thresholdSobel(hough_edge_x)\n"
   ]
  },
  {
   "cell_type": "code",
   "execution_count": 509,
   "metadata": {},
   "outputs": [
    {
     "data": {
      "text/plain": [
       "True"
      ]
     },
     "execution_count": 509,
     "metadata": {},
     "output_type": "execute_result"
    }
   ],
   "source": [
    "cv.imwrite(\"threshold_sobel_g\"+'.jpg',threshold_sobel_x)"
   ]
  },
  {
   "cell_type": "code",
   "execution_count": null,
   "metadata": {},
   "outputs": [],
   "source": []
  },
  {
   "cell_type": "code",
   "execution_count": null,
   "metadata": {},
   "outputs": [],
   "source": []
  },
  {
   "cell_type": "code",
   "execution_count": 510,
   "metadata": {
    "scrolled": true
   },
   "outputs": [
    {
     "name": "stdout",
     "output_type": "stream",
     "text": [
      "(477, 666)\n",
      "820\n",
      "180\n"
     ]
    },
    {
     "name": "stderr",
     "output_type": "stream",
     "text": [
      "/anaconda3/envs/ML_Tensor_Keras/lib/python3.6/site-packages/ipykernel_launcher.py:7: DeprecationWarning: object of type <class 'float'> cannot be safely interpreted as an integer.\n",
      "  import sys\n"
     ]
    }
   ],
   "source": [
    "accumulator, thetas, rhos = generateHoughLines(threshold_sobel_x)"
   ]
  },
  {
   "cell_type": "code",
   "execution_count": 511,
   "metadata": {},
   "outputs": [
    {
     "name": "stdout",
     "output_type": "stream",
     "text": [
      "(1640, 180)\n",
      "147870\n",
      "[-820.         -818.99938987 -817.99877974 ...  817.99877974  818.99938987\n",
      "  820.        ]\n",
      "0.0\n",
      "2.501525320317228 0.0\n",
      "(821, 90)\n"
     ]
    }
   ],
   "source": [
    "print(accumulator.shape)\n",
    "#print(accumulator[860,179])\n",
    "\n",
    "print(np.argmax(accumulator))\n",
    "idx = np.argmax(accumulator)\n",
    "r = int(round(idx / accumulator.shape[1]))\n",
    "rho = rhos[r]\n",
    "print(rhos)\n",
    "\n",
    "theta = thetas[idx % accumulator.shape[1]]\n",
    "print(theta)\n",
    "print(rho, np.rad2deg(theta))\n",
    "a=accumulator\n",
    "nd = np.unravel_index(np.argmax(a, axis=None), a.shape)\n",
    "print(nd)\n",
    "\n",
    "#print(accumulator[1244][135])\n",
    "\n"
   ]
  },
  {
   "cell_type": "code",
   "execution_count": 512,
   "metadata": {},
   "outputs": [],
   "source": [
    "def hough_peaks1(H, num_peaks):\n",
    "    indices =  np.argpartition(H.flatten(), -2)[-num_peaks:]\n",
    "    return np.vstack(np.unravel_index(indices, H.shape)).T"
   ]
  },
  {
   "cell_type": "code",
   "execution_count": null,
   "metadata": {},
   "outputs": [],
   "source": []
  },
  {
   "cell_type": "code",
   "execution_count": 536,
   "metadata": {},
   "outputs": [],
   "source": [
    "peaks = hough_peaks1(accumulator,200)\n",
    "v_peaks = peaks[peaks[:,1]>87]\n",
    "v_peaks = v_peaks[v_peaks[:,1]<110]\n",
    "#v_peaks = v_peaks[v_peaks[:,0]>910]\n",
    "v_peaks = v_peaks[:40,:]\n",
    "d_peaks = peaks[peaks[:,1]<56]\n",
    "d_peaks = d_peaks[d_peaks[:,0]>714]\n",
    "d_peaks = d_peaks[:20,:]\n",
    "#print(d_peaks)\n",
    "\n",
    "#print(v_peaks)\n",
    "#theta = thetas[peaks[2][1]]\n",
    "#theta\n",
    "\n",
    "hough_lines_draw(v_org_image, v_peaks,rhos, thetas)\n",
    "hough_lines_draw(d_org_image, d_peaks,rhos, thetas)"
   ]
  },
  {
   "cell_type": "code",
   "execution_count": null,
   "metadata": {},
   "outputs": [],
   "source": [
    "\n",
    "\n",
    "\n",
    "\n",
    "\n"
   ]
  },
  {
   "cell_type": "code",
   "execution_count": 514,
   "metadata": {},
   "outputs": [],
   "source": [
    "def hough_lines_draw(img, indicies, rhos, thetas):\n",
    "    for i in range(len(indicies)):\n",
    "        \n",
    "        rho = rhos[indicies[i][0]]\n",
    "        theta = thetas[indicies[i][1]]\n",
    "        a = np.cos(theta)\n",
    "        b = np.sin(theta)\n",
    "        x0 = a*rho\n",
    "        y0 = b*rho\n",
    "        \n",
    "        x1 = int(x0 + 1000*(-b))\n",
    "        y1 = int(y0 + 1000*(a))\n",
    "        x2 = int(x0 - 1000*(-b))\n",
    "        y2 = int(y0 - 1000*(a))\n",
    "\n",
    "        cv.line(img, (x1, y1), (x2, y2), (0, 255, 0), 2)"
   ]
  },
  {
   "cell_type": "code",
   "execution_count": 537,
   "metadata": {},
   "outputs": [
    {
     "data": {
      "text/plain": [
       "True"
      ]
     },
     "execution_count": 537,
     "metadata": {},
     "output_type": "execute_result"
    }
   ],
   "source": [
    "cv.imwrite(\"red_line\"+'.jpg',v_org_image)\n",
    "cv.imwrite(\"blue_lines\"+'.jpg',d_org_image)"
   ]
  },
  {
   "cell_type": "code",
   "execution_count": 516,
   "metadata": {},
   "outputs": [
    {
     "data": {
      "text/plain": [
       "True"
      ]
     },
     "execution_count": 516,
     "metadata": {},
     "output_type": "execute_result"
    }
   ],
   "source": [
    "cv.imwrite(\"accumulator\"+'.jpg',accumulator)"
   ]
  },
  {
   "cell_type": "markdown",
   "metadata": {},
   "source": [
    "# Hough Circle"
   ]
  },
  {
   "cell_type": "code",
   "execution_count": 517,
   "metadata": {},
   "outputs": [],
   "source": [
    "def thresholdSobelCircle(Image):\n",
    "    img = np.zeros(Image.shape)\n",
    "    h1,w1 = Image.shape\n",
    "    for i in range(0,h1):\n",
    "        for j in range(0,w1):\n",
    "            if(Image[i][j]>55):\n",
    "                img[i][j]=255\n",
    "    return img "
   ]
  },
  {
   "cell_type": "code",
   "execution_count": 518,
   "metadata": {},
   "outputs": [],
   "source": [
    "threshold_sobel_y = thresholdSobelCircle(hough_edge_y)\n",
    "#cv.imwrite(\"threshold_sobel_y\"+'.jpg',threshold_sobel_y)"
   ]
  },
  {
   "cell_type": "code",
   "execution_count": 519,
   "metadata": {},
   "outputs": [],
   "source": [
    "def generateHoughCircles(image):\n",
    "    radius = 20\n",
    "    theta = np.deg2rad(np.arange(0.0, 360.0))\n",
    "    #theta = np.deg2rad([-90,-60,-45,-30,-15,0,15,30,45,60,90])\n",
    "    print(image.shape)\n",
    "    width,height = image.shape\n",
    "    len_diagonal = int(np.ceil(np.sqrt(width * width + height * height)))\n",
    "    #rhos = np.linspace(-len_diagonal, len_diagonal, len_diagonal * 2.0)\n",
    "\n",
    "    cos_theta = np.cos(theta)\n",
    "    sin_theta = np.sin(theta)\n",
    "    len_thetas = len(theta)\n",
    "\n",
    "    print(len_diagonal)\n",
    "    accumulator_circle = np.zeros((len_diagonal, len_diagonal), dtype=np.uint64)\n",
    "    y_idx, x_idx = np.nonzero(image)\n",
    "    print(len_thetas)\n",
    "\n",
    "    for i in range(len(x_idx)):\n",
    "        x = x_idx[i]\n",
    "        y = y_idx[i]\n",
    "\n",
    "        for t_idx in range(len_thetas):\n",
    "            a = int(round(x - radius * cos_theta[t_idx]) )\n",
    "            b = int(round(y - radius * sin_theta[t_idx]) )\n",
    "            #rho = int(round(x * cos_theta[t_idx] + y * sin_theta[t_idx]) + len_diagonal)\n",
    "            #print(rho)\n",
    "            accumulator_circle[a, b] += 1\n",
    "\n",
    "    return accumulator_circle, theta"
   ]
  },
  {
   "cell_type": "code",
   "execution_count": 520,
   "metadata": {},
   "outputs": [
    {
     "name": "stdout",
     "output_type": "stream",
     "text": [
      "(477, 666)\n",
      "820\n",
      "360\n"
     ]
    }
   ],
   "source": [
    "accumulator_circle, thetas_circle = generateHoughCircles(threshold_sobel_y )"
   ]
  },
  {
   "cell_type": "code",
   "execution_count": 521,
   "metadata": {},
   "outputs": [
    {
     "data": {
      "text/plain": [
       "True"
      ]
     },
     "execution_count": 521,
     "metadata": {},
     "output_type": "execute_result"
    }
   ],
   "source": [
    "cv.imwrite(\"accumulator_circle\"+'.jpg',accumulator_circle)"
   ]
  },
  {
   "cell_type": "code",
   "execution_count": 522,
   "metadata": {},
   "outputs": [],
   "source": [
    "def hough_peaks_circle(H, num_peaks):\n",
    "    indices =  np.argpartition(H.flatten(), -2)[-num_peaks:]\n",
    "    return np.vstack(np.unravel_index(indices, H.shape)).T"
   ]
  },
  {
   "cell_type": "code",
   "execution_count": 523,
   "metadata": {},
   "outputs": [],
   "source": [
    "peaks_circle = hough_peaks_circle(accumulator_circle,150)\n",
    "#print(peaks_circle)"
   ]
  },
  {
   "cell_type": "code",
   "execution_count": 524,
   "metadata": {},
   "outputs": [],
   "source": [
    "\n",
    "def displayCircles(peaks):\n",
    "    for i in range(len(peaks)):\n",
    "        \n",
    "        cx = peaks[i][0]\n",
    "        cy = peaks[i][1]\n",
    "        #print(cx,cy)\n",
    "        cv.circle(circle_org_image, (cx, cy), 20, (0, 255, 0), -1)"
   ]
  },
  {
   "cell_type": "code",
   "execution_count": 525,
   "metadata": {},
   "outputs": [],
   "source": [
    "displayCircles(peaks_circle)"
   ]
  },
  {
   "cell_type": "code",
   "execution_count": 526,
   "metadata": {},
   "outputs": [
    {
     "data": {
      "text/plain": [
       "True"
      ]
     },
     "execution_count": 526,
     "metadata": {},
     "output_type": "execute_result"
    }
   ],
   "source": [
    "cv.imwrite(\"coin\"+'.jpg',circle_org_image)"
   ]
  }
 ],
 "metadata": {
  "kernelspec": {
   "display_name": "Python 3",
   "language": "python",
   "name": "python3"
  },
  "language_info": {
   "codemirror_mode": {
    "name": "ipython",
    "version": 3
   },
   "file_extension": ".py",
   "mimetype": "text/x-python",
   "name": "python",
   "nbconvert_exporter": "python",
   "pygments_lexer": "ipython3",
   "version": "3.6.6"
  }
 },
 "nbformat": 4,
 "nbformat_minor": 2
}
